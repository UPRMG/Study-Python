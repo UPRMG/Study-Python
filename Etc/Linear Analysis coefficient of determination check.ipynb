{
 "cells": [
  {
   "cell_type": "markdown",
   "metadata": {},
   "source": [
    "### Linear Analysis coefficient of determination check"
   ]
  },
  {
   "cell_type": "markdown",
   "metadata": {},
   "source": [
    "### Simple case"
   ]
  },
  {
   "cell_type": "markdown",
   "metadata": {},
   "source": [
    "- 임의의 직선 방정식을 통한 결정계수 구현과 모델링을 거친 직선 방정식의 결정계수 차이 체크"
   ]
  },
  {
   "cell_type": "markdown",
   "metadata": {},
   "source": [
    "### Formula check"
   ]
  },
  {
   "cell_type": "markdown",
   "metadata": {},
   "source": [
    "$R^{2} = \\frac{SSR}{SST} = 1- \\frac{SSE}{SST}$\n",
    "\n",
    "\n",
    "$SST = \\sum(y_{i}-\\bar{y})^{2}$ : (실제 y값들 - 평균 y값) 제곱합\n",
    "\n",
    "\n",
    "$SSR = \\sum(\\hat{y_{i}}-\\bar{y})^{2}$ : (예측 y값들 - 평균 y값) 제곱합\n",
    "\n",
    "\n",
    "$SSE = \\sum(y_{i}-\\hat{y})^{2}$ : (실제 y값들 - 예측 y값들) 제곱합\n",
    "\n",
    "\n"
   ]
  },
  {
   "cell_type": "markdown",
   "metadata": {},
   "source": [
    "---"
   ]
  },
  {
   "cell_type": "code",
   "execution_count": 137,
   "metadata": {},
   "outputs": [],
   "source": [
    "import numpy as np\n",
    "from sklearn.linear_model import LinearRegression"
   ]
  },
  {
   "cell_type": "markdown",
   "metadata": {},
   "source": [
    "- case 1. 임의의 직선 방정식을 통한 결정계수 체크"
   ]
  },
  {
   "cell_type": "code",
   "execution_count": 138,
   "metadata": {},
   "outputs": [],
   "source": [
    "x = np.array([1,2,3])\n",
    "y = np.array([30,40,55])"
   ]
  },
  {
   "cell_type": "code",
   "execution_count": 139,
   "metadata": {},
   "outputs": [
    {
     "data": {
      "text/plain": [
       "array([30, 50, 70])"
      ]
     },
     "execution_count": 139,
     "metadata": {},
     "output_type": "execute_result"
    }
   ],
   "source": [
    "y_predicted = 20*x + 10\n",
    "y_predicted"
   ]
  },
  {
   "cell_type": "code",
   "execution_count": 140,
   "metadata": {},
   "outputs": [
    {
     "data": {
      "text/plain": [
       "[<matplotlib.lines.Line2D at 0x7fe5dc785390>]"
      ]
     },
     "execution_count": 140,
     "metadata": {},
     "output_type": "execute_result"
    },
    {
     "data": {
      "image/png": "[encoded data removed]",
      "text/plain": [
       "<Figure size 432x288 with 1 Axes>"
      ]
     },
     "metadata": {
      "needs_background": "light"
     },
     "output_type": "display_data"
    }
   ],
   "source": [
    "plt.plot(x,y)\n",
    "plt.plot(x,y_predicted, 'r-')"
   ]
  },
  {
   "cell_type": "code",
   "execution_count": 141,
   "metadata": {},
   "outputs": [
    {
     "data": {
      "text/plain": [
       "41.666666666666664"
      ]
     },
     "execution_count": 141,
     "metadata": {},
     "output_type": "execute_result"
    }
   ],
   "source": [
    "avg = np.mean(y)\n",
    "avg"
   ]
  },
  {
   "cell_type": "code",
   "execution_count": 142,
   "metadata": {},
   "outputs": [
    {
     "name": "stdout",
     "output_type": "stream",
     "text": [
      "[-11.66666667  -1.66666667  13.33333333]\n",
      "[136.11111111   2.77777778 177.77777778]\n",
      "SST =  316.67\n",
      "\n",
      "[-11.66666667   8.33333333  28.33333333]\n",
      "[136.11111111  69.44444444 802.77777778]\n",
      "SSR =  1008.33\n",
      "\n",
      "[  0 -10 -15]\n",
      "[  0 100 225]\n",
      "SSE =  325\n"
     ]
    }
   ],
   "source": [
    "print(y-avg)\n",
    "print((y-avg)**2)\n",
    "print('SST = ', round(np.sum((y-avg)**2),2)) # SST\n",
    "print()\n",
    "print(y_predicted-avg)\n",
    "print((y_predicted-avg)**2)\n",
    "print('SSR = ', round(np.sum((y_predicted-avg)**2),2)) # SSR\n",
    "print()\n",
    "print(y-y_predicted)\n",
    "print((y-y_predicted)**2)\n",
    "print('SSE = ', round(np.sum((y-y_predicted)**2),2)) # SSE"
   ]
  },
  {
   "cell_type": "code",
   "execution_count": 143,
   "metadata": {},
   "outputs": [
    {
     "name": "stdout",
     "output_type": "stream",
     "text": [
      "SSR + SSE =  1333.33\n",
      "SST =  316.67\n",
      "False\n"
     ]
    }
   ],
   "source": [
    "print('SSR + SSE = ', round(np.sum((y_predicted-avg)**2),2) + round(np.sum((y-y_predicted)**2),2))\n",
    "print('SST = ', round(np.sum((y-avg)**2),2))\n",
    "print((round(np.sum((y-avg)**2),2)) == round(np.sum((y_predicted-avg)**2),2) + round(np.sum((y-y_predicted)**2),2))"
   ]
  },
  {
   "cell_type": "markdown",
   "metadata": {},
   "source": [
    "- case 2. 단순 회귀 모델링을 통한 결정계수 체크"
   ]
  },
  {
   "cell_type": "code",
   "execution_count": 144,
   "metadata": {},
   "outputs": [],
   "source": [
    "y = np.array([30,40,55])\n",
    "x = np.array([1,2,3])"
   ]
  },
  {
   "cell_type": "code",
   "execution_count": 145,
   "metadata": {},
   "outputs": [
    {
     "data": {
      "text/plain": [
       "41.666666666666664"
      ]
     },
     "execution_count": 145,
     "metadata": {},
     "output_type": "execute_result"
    }
   ],
   "source": [
    "avg = np.mean(y)\n",
    "avg"
   ]
  },
  {
   "cell_type": "code",
   "execution_count": 146,
   "metadata": {},
   "outputs": [
    {
     "data": {
      "text/plain": [
       "LinearRegression(copy_X=True, fit_intercept=True, n_jobs=None, normalize=False)"
      ]
     },
     "execution_count": 146,
     "metadata": {},
     "output_type": "execute_result"
    }
   ],
   "source": [
    "Linear_m = LinearRegression()\n",
    "Linear_m.fit(x.reshape(-1,1), y)"
   ]
  },
  {
   "cell_type": "code",
   "execution_count": 147,
   "metadata": {},
   "outputs": [
    {
     "data": {
      "text/plain": [
       "array([29.16666667, 41.66666667, 54.16666667])"
      ]
     },
     "execution_count": 147,
     "metadata": {},
     "output_type": "execute_result"
    }
   ],
   "source": [
    "y_predicted = Linear_m.predict(x.reshape(-1,1))\n",
    "y_predicted"
   ]
  },
  {
   "cell_type": "code",
   "execution_count": 148,
   "metadata": {},
   "outputs": [
    {
     "name": "stdout",
     "output_type": "stream",
     "text": [
      "coef =  [12.5]\n",
      "bias =  16.66666666666667\n"
     ]
    }
   ],
   "source": [
    "print('coef = ', Linear_m.coef_)\n",
    "print('bias = ', Linear_m.intercept_)"
   ]
  },
  {
   "cell_type": "code",
   "execution_count": 149,
   "metadata": {},
   "outputs": [
    {
     "data": {
      "text/plain": [
       "[<matplotlib.lines.Line2D at 0x7fe5dc82d090>]"
      ]
     },
     "execution_count": 149,
     "metadata": {},
     "output_type": "execute_result"
    },
    {
     "data": {
      "image/png": "[encoded data removed]",
      "text/plain": [
       "<Figure size 432x288 with 1 Axes>"
      ]
     },
     "metadata": {
      "needs_background": "light"
     },
     "output_type": "display_data"
    }
   ],
   "source": [
    "plt.plot(x,y)\n",
    "plt.plot(x,y_predicted, 'r-')"
   ]
  },
  {
   "cell_type": "code",
   "execution_count": 150,
   "metadata": {},
   "outputs": [
    {
     "name": "stdout",
     "output_type": "stream",
     "text": [
      "[-11.66666667  -1.66666667  13.33333333]\n",
      "[136.11111111   2.77777778 177.77777778]\n",
      "SST =  316.67\n",
      "\n",
      "[-12.5   0.   12.5]\n",
      "[156.25   0.   156.25]\n",
      "SSR =  312.5\n",
      "\n",
      "[ 0.83333333 -1.66666667  0.83333333]\n",
      "[0.69444444 2.77777778 0.69444444]\n",
      "SSE =  4.17\n"
     ]
    }
   ],
   "source": [
    "print(y-avg)\n",
    "print((y-avg)**2)\n",
    "print('SST = ', round(np.sum((y-avg)**2),2)) # SST\n",
    "print()\n",
    "print(y_predicted-avg)\n",
    "print((y_predicted-avg)**2)\n",
    "print('SSR = ', round(np.sum((y_predicted-avg)**2),2)) # SSR\n",
    "print()\n",
    "print(y-y_predicted)\n",
    "print((y-y_predicted)**2)\n",
    "print('SSE = ', round(np.sum((y-y_predicted)**2),2)) # SSE"
   ]
  },
  {
   "cell_type": "code",
   "execution_count": 151,
   "metadata": {},
   "outputs": [
    {
     "name": "stdout",
     "output_type": "stream",
     "text": [
      "SSR + SSE =  316.67\n",
      "SST =  316.67\n",
      "True\n"
     ]
    }
   ],
   "source": [
    "print('SSR + SSE = ', round(np.sum((y_predicted-avg)**2),2) + round(np.sum((y-y_predicted)**2),2))\n",
    "print('SST = ', round(np.sum((y-avg)**2),2))\n",
    "print((round(np.sum((y-avg)**2),2)) == round(np.sum((y_predicted-avg)**2),2) + round(np.sum((y-y_predicted)**2),2))"
   ]
  },
  {
   "cell_type": "markdown",
   "metadata": {},
   "source": [
    "+ why?"
   ]
  }
 ],
 "metadata": {
  "kernelspec": {
   "display_name": "Python 3",
   "language": "python",
   "name": "python3"
  },
  "language_info": {
   "codemirror_mode": {
    "name": "ipython",
    "version": 3
   },
   "file_extension": ".py",
   "mimetype": "text/x-python",
   "name": "python",
   "nbconvert_exporter": "python",
   "pygments_lexer": "ipython3",
   "version": "3.7.4"
  }
 },
 "nbformat": 4,
 "nbformat_minor": 2
}
