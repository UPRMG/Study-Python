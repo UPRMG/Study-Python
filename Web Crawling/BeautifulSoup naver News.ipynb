{
 "cells": [
  {
   "cell_type": "markdown",
   "metadata": {},
   "source": [
    "# BeautifulSoup naver News"
   ]
  },
  {
   "cell_type": "code",
   "execution_count": 1,
   "metadata": {},
   "outputs": [],
   "source": [
    "from bs4 import BeautifulSoup\n",
    "import urllib.request\n",
    "from urllib.parse import quote\n",
    "import pandas as pd"
   ]
  },
  {
   "cell_type": "code",
   "execution_count": 2,
   "metadata": {},
   "outputs": [
    {
     "name": "stdout",
     "output_type": "stream",
     "text": [
      "검색어 :무인주차장\n",
      "원하는 검색 페이지수 :5\n",
      "\n",
      "성남시, 중앙시장 '주차장 설계·시스템' 불량\n",
      "아산시민연대 \"시 주차장 유료화, 상생방안 우선\"\n",
      "군포도시공사, 설 연휴 '안전관리 종합대책' 수립···유료 공영주차장 41개 무료개방\n",
      "부안군, 마실 공영주차장 임시 무료 개방\n",
      "인천시청사 주차장 관리 효율성 높인다\n",
      "ubc 울산방송) 삼산공영주차장, 야간 무인주차장 운영\n",
      "아산시민연대 \"시민 여론 담아 주차장 유료화 추진해야\"\n",
      "아산시 \"청사 주차장 유료화 의견수렴하겠다\"\n",
      "[울산소식]울산시설공단, 삼산공영주차장 무인 운영 등\n",
      "[전북의 창] 부안군, 공영주차장 조성…상가 주차난 해소\n",
      "\n",
      "아산시 청사 주차장 유료화 의견 분분\n",
      "“아파트 무인차단기 빨리 통과”…경찰·소방차 전용번호판 도입\n",
      "공영주차장 잇따라 야간시간 무인 운영\n",
      "울산시설공단, 2월부터 삼산공영주차장 야간 무인 운영\n",
      "부안군, 이달 말까지 마실 공영주차장 무료 개방\n",
      "ADT캡스, '퍼스트브랜드 대상' 무인경비서비스 부문 수상\n",
      "[테크칼럼] 무인화기기의 시대 본격화② 무인화기기 보안 및 관리를 위한 제언\n",
      "드라이브스루 이어 이번엔 ‘무인개통’…갤S21 최대 50만원 지원금(종합)\n",
      "여수시, 노상주차장 바닥제어 무인정산 시범운영\n",
      "광주광역시 동구, 재활용품 무인회수기 ‘네프론’ 설치\n",
      "\n",
      "마포구, 공영주차장에 경찰 연계 안심비상벨 설치 확대\n",
      "하남시, 무인 공영주차장 안심벨 설치\n",
      "여수시, 유료 노상주차장 무인화 시스템 도입\n",
      "코로나시대 대면접촉 줄여라…미 식품체인, 무인 픽업창구 운영\n",
      "여수시, 유료 노상주차장 무인화 시스템 '시범운영'\n",
      "남원시, 용남시장 주차장 무인정산시스템으로\n",
      "AI 무인주차장 아이파킹, 누적 주차 4억대 돌파\n",
      "무인역 글램핑·배식로봇...내년 일본서 뜬다\n",
      "동구, 재활용품 무인회수기 설치\n",
      "인천공항 장기주차장, 사전예약 서비스 도입\n",
      "\n",
      "진주 평거동 상가밀집지역 공영주차장 준공\n",
      "수원시, 28일부터 무인대여 자전거 서비스 '재개'\n",
      "아이파킹, 쉐어하우스 우주와 ‘AI 스마트 주차장’ 협업\n",
      "아이파킹, 부산 엘시티에 무인 AI 주차장 오픈\n",
      "순천시, 장애인전용 주차장 안내시스템 운영\n",
      "\"노는 주차장도 '가치의 연결' 일어나는 공간\"\n",
      "부천 전체 공영주차장 요금, 내년부터 하이패스처럼 결제\n",
      "하남시,무인 공영주차장에 안심벨 설치…안전사고·범죄예방 위해\n",
      "광주 남구, 효덕동 공영 주차장 무인시스템 도입\n",
      "공영주차장도 하이패스시대…오늘부터 서울서 ‘지갑없는 주차장’\n",
      "\n",
      "서울 양천구, 노년층 '무인주문 키오스크' 교육 나선다\n",
      "청도, 무인민원발급기 옥외부스 설치\n",
      "청도군, 무인민원발급기 옥외부스 설치\n",
      "구미시, 금오천 공영주차장 무인정산시스템 도입\n",
      "의성군, 본청 부설주차장 유료 운영 돌입…“민원인 불편 해소”\n",
      "남원 용남시장 주차장, 무인정산시스템 구축\n",
      "하남 미사강변도시 내 공원주차장 5월부터 유료화\n",
      "카카오모빌리티, 보안업체 에스원과 무인주차 솔루션 출시\n",
      "아이파킹, 언택트 무인주차장 방역 강화\n",
      "구미시, 금오천 공영주차장에 무인정산시스템 도입\n",
      "\n"
     ]
    }
   ],
   "source": [
    "url_query = quote(str(input('검색어 :')))\n",
    "url = 'https://search.naver.com/search.naver?where=news&sm=tab_jum&query='+url_query\n",
    "\n",
    "j = int(input('원하는 검색 페이지수 :'))\n",
    "print()\n",
    "\n",
    "for i in range(j):\n",
    "    \n",
    "    search_url = urllib.request.urlopen(url).read()\n",
    "    soup = BeautifulSoup(search_url, 'html.parser')\n",
    "\n",
    "    check = soup.find_all('div', {'class':'news_area'})\n",
    "\n",
    "    for i in range(len(check)):\n",
    "        a = check[i].find('a',{'class':'news_tit'})['title']\n",
    "        print(a)\n",
    "        \n",
    "    try:\n",
    "        ab = soup.find('a',{'class':'btn_next'}).get('href')\n",
    "        url = 'https://search.naver.com/search.naver' + ab\n",
    "    except:\n",
    "        break\n",
    "    \n",
    "    print()\n",
    "        "
   ]
  },
  {
   "cell_type": "markdown",
   "metadata": {},
   "source": [
    "+ Pandas"
   ]
  }
 ],
 "metadata": {
  "kernelspec": {
   "display_name": "Python 3",
   "language": "python",
   "name": "python3"
  },
  "language_info": {
   "codemirror_mode": {
    "name": "ipython",
    "version": 3
   },
   "file_extension": ".py",
   "mimetype": "text/x-python",
   "name": "python",
   "nbconvert_exporter": "python",
   "pygments_lexer": "ipython3",
   "version": "3.7.4"
  }
 },
 "nbformat": 4,
 "nbformat_minor": 2
}
