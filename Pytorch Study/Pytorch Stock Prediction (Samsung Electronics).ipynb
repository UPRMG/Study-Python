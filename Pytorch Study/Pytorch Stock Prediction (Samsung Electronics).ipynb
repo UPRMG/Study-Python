{
 "cells": [
  {
   "cell_type": "markdown",
   "metadata": {},
   "source": [
    "### Samsung Electronics Stock Prediction Analysis\n",
    "### Pytorch (BI-LSTM)"
   ]
  },
  {
   "cell_type": "code",
   "execution_count": 1,
   "metadata": {},
   "outputs": [],
   "source": [
    "import pandas as pd\n",
    "import numpy as np\n",
    "import pandas_datareader as pdr\n",
    "from sklearn.model_selection import train_test_split\n",
    "from sklearn.preprocessing import MinMaxScaler\n",
    "from sklearn import preprocessing\n",
    "\n",
    "from sklearn.metrics import mean_squared_error\n",
    "\n",
    "import torch\n",
    "import torch.nn as nn\n",
    "import torch.optim as optim\n",
    "import torch.nn.init\n",
    "\n",
    "import matplotlib.pyplot as plt\n",
    "%matplotlib inline\n",
    "\n",
    "import warnings\n",
    "warnings.filterwarnings(action='ignore')"
   ]
  },
  {
   "cell_type": "code",
   "execution_count": 2,
   "metadata": {},
   "outputs": [],
   "source": [
    "data = pdr.get_data_yahoo('005930.KS', start='2015-01-01', end='2020-12-23')"
   ]
  },
  {
   "cell_type": "code",
   "execution_count": 3,
   "metadata": {},
   "outputs": [
    {
     "data": {
      "text/html": [
       "<div>\n",
       "<style scoped>\n",
       "    .dataframe tbody tr th:only-of-type {\n",
       "        vertical-align: middle;\n",
       "    }\n",
       "\n",
       "    .dataframe tbody tr th {\n",
       "        vertical-align: top;\n",
       "    }\n",
       "\n",
       "    .dataframe thead th {\n",
       "        text-align: right;\n",
       "    }\n",
       "</style>\n",
       "<table border=\"1\" class=\"dataframe\">\n",
       "  <thead>\n",
       "    <tr style=\"text-align: right;\">\n",
       "      <th></th>\n",
       "      <th>High</th>\n",
       "      <th>Low</th>\n",
       "      <th>Open</th>\n",
       "      <th>Close</th>\n",
       "      <th>Volume</th>\n",
       "      <th>Adj Close</th>\n",
       "    </tr>\n",
       "    <tr>\n",
       "      <th>Date</th>\n",
       "      <th></th>\n",
       "      <th></th>\n",
       "      <th></th>\n",
       "      <th></th>\n",
       "      <th></th>\n",
       "      <th></th>\n",
       "    </tr>\n",
       "  </thead>\n",
       "  <tbody>\n",
       "    <tr>\n",
       "      <td>2015-01-02</td>\n",
       "      <td>26800.0</td>\n",
       "      <td>26540.0</td>\n",
       "      <td>26800.0</td>\n",
       "      <td>26600.0</td>\n",
       "      <td>8774950.0</td>\n",
       "      <td>257.958313</td>\n",
       "    </tr>\n",
       "    <tr>\n",
       "      <td>2015-01-05</td>\n",
       "      <td>26720.0</td>\n",
       "      <td>26260.0</td>\n",
       "      <td>26720.0</td>\n",
       "      <td>26660.0</td>\n",
       "      <td>10139500.0</td>\n",
       "      <td>258.540161</td>\n",
       "    </tr>\n",
       "    <tr>\n",
       "      <td>2015-01-06</td>\n",
       "      <td>26340.0</td>\n",
       "      <td>25760.0</td>\n",
       "      <td>26300.0</td>\n",
       "      <td>25900.0</td>\n",
       "      <td>15235500.0</td>\n",
       "      <td>251.169937</td>\n",
       "    </tr>\n",
       "    <tr>\n",
       "      <td>2015-01-07</td>\n",
       "      <td>26220.0</td>\n",
       "      <td>25640.0</td>\n",
       "      <td>25880.0</td>\n",
       "      <td>26140.0</td>\n",
       "      <td>14322750.0</td>\n",
       "      <td>253.497406</td>\n",
       "    </tr>\n",
       "    <tr>\n",
       "      <td>2015-01-08</td>\n",
       "      <td>26780.0</td>\n",
       "      <td>26200.0</td>\n",
       "      <td>26780.0</td>\n",
       "      <td>26280.0</td>\n",
       "      <td>14477600.0</td>\n",
       "      <td>254.855087</td>\n",
       "    </tr>\n",
       "    <tr>\n",
       "      <td>...</td>\n",
       "      <td>...</td>\n",
       "      <td>...</td>\n",
       "      <td>...</td>\n",
       "      <td>...</td>\n",
       "      <td>...</td>\n",
       "      <td>...</td>\n",
       "    </tr>\n",
       "    <tr>\n",
       "      <td>2020-12-17</td>\n",
       "      <td>73700.0</td>\n",
       "      <td>72600.0</td>\n",
       "      <td>73400.0</td>\n",
       "      <td>73300.0</td>\n",
       "      <td>24293214.0</td>\n",
       "      <td>73300.000000</td>\n",
       "    </tr>\n",
       "    <tr>\n",
       "      <td>2020-12-18</td>\n",
       "      <td>73700.0</td>\n",
       "      <td>73000.0</td>\n",
       "      <td>73300.0</td>\n",
       "      <td>73000.0</td>\n",
       "      <td>17613029.0</td>\n",
       "      <td>73000.000000</td>\n",
       "    </tr>\n",
       "    <tr>\n",
       "      <td>2020-12-21</td>\n",
       "      <td>73400.0</td>\n",
       "      <td>72000.0</td>\n",
       "      <td>73100.0</td>\n",
       "      <td>73000.0</td>\n",
       "      <td>20367355.0</td>\n",
       "      <td>73000.000000</td>\n",
       "    </tr>\n",
       "    <tr>\n",
       "      <td>2020-12-22</td>\n",
       "      <td>73200.0</td>\n",
       "      <td>72100.0</td>\n",
       "      <td>72500.0</td>\n",
       "      <td>72300.0</td>\n",
       "      <td>16304910.0</td>\n",
       "      <td>72300.000000</td>\n",
       "    </tr>\n",
       "    <tr>\n",
       "      <td>2020-12-23</td>\n",
       "      <td>74000.0</td>\n",
       "      <td>72300.0</td>\n",
       "      <td>72400.0</td>\n",
       "      <td>73900.0</td>\n",
       "      <td>19279110.0</td>\n",
       "      <td>73900.000000</td>\n",
       "    </tr>\n",
       "  </tbody>\n",
       "</table>\n",
       "<p>1465 rows × 6 columns</p>\n",
       "</div>"
      ],
      "text/plain": [
       "               High      Low     Open    Close      Volume     Adj Close\n",
       "Date                                                                    \n",
       "2015-01-02  26800.0  26540.0  26800.0  26600.0   8774950.0    257.958313\n",
       "2015-01-05  26720.0  26260.0  26720.0  26660.0  10139500.0    258.540161\n",
       "2015-01-06  26340.0  25760.0  26300.0  25900.0  15235500.0    251.169937\n",
       "2015-01-07  26220.0  25640.0  25880.0  26140.0  14322750.0    253.497406\n",
       "2015-01-08  26780.0  26200.0  26780.0  26280.0  14477600.0    254.855087\n",
       "...             ...      ...      ...      ...         ...           ...\n",
       "2020-12-17  73700.0  72600.0  73400.0  73300.0  24293214.0  73300.000000\n",
       "2020-12-18  73700.0  73000.0  73300.0  73000.0  17613029.0  73000.000000\n",
       "2020-12-21  73400.0  72000.0  73100.0  73000.0  20367355.0  73000.000000\n",
       "2020-12-22  73200.0  72100.0  72500.0  72300.0  16304910.0  72300.000000\n",
       "2020-12-23  74000.0  72300.0  72400.0  73900.0  19279110.0  73900.000000\n",
       "\n",
       "[1465 rows x 6 columns]"
      ]
     },
     "execution_count": 3,
     "metadata": {},
     "output_type": "execute_result"
    }
   ],
   "source": [
    "data"
   ]
  },
  {
   "cell_type": "code",
   "execution_count": 4,
   "metadata": {},
   "outputs": [
    {
     "data": {
      "text/plain": [
       "High         0\n",
       "Low          0\n",
       "Open         0\n",
       "Close        0\n",
       "Volume       0\n",
       "Adj Close    0\n",
       "dtype: int64"
      ]
     },
     "execution_count": 4,
     "metadata": {},
     "output_type": "execute_result"
    }
   ],
   "source": [
    "data.isnull().sum()"
   ]
  },
  {
   "cell_type": "code",
   "execution_count": 5,
   "metadata": {},
   "outputs": [],
   "source": [
    "window_len = 15"
   ]
  },
  {
   "cell_type": "code",
   "execution_count": 6,
   "metadata": {},
   "outputs": [],
   "source": [
    "def window(data, win_length):\n",
    "    xdata = []\n",
    "    ydata = []\n",
    "    for i in range(len(data)-win_length):\n",
    "        _x = data[i:i+win_length,:]\n",
    "        _y = data[i+win_length,[-1]] #next term last value\n",
    "        xdata.append(_x)\n",
    "        ydata.append(_y)\n",
    "    return np.array(xdata), np.array(ydata)"
   ]
  },
  {
   "cell_type": "code",
   "execution_count": 7,
   "metadata": {},
   "outputs": [],
   "source": [
    "scaler_1 = MinMaxScaler().fit(np.array(data.High).reshape(1,-1).T)\n",
    "High_nu = scaler_1.transform(np.array(data.High).reshape(1,-1).T)\n",
    "\n",
    "scaler_2 = MinMaxScaler().fit(np.array(data.Low).reshape(1,-1).T)\n",
    "Low_nu = scaler_2.transform(np.array(data.Low).reshape(1,-1).T)\n",
    "\n",
    "scaler_3 = MinMaxScaler().fit(np.array(data.Open).reshape(1,-1).T)\n",
    "Open_nu = scaler_3.transform(np.array(data.Open).reshape(1,-1).T)\n",
    "\n",
    "scaler_4 = MinMaxScaler().fit(np.array(data.Volume).reshape(1,-1).T)\n",
    "Volume_nu = scaler_4.transform(np.array(data.Volume).reshape(1,-1).T)\n",
    "\n",
    "scaler_5 = MinMaxScaler().fit(np.array(data.Close).reshape(1,-1).T)\n",
    "Close_nu = scaler_5.transform(np.array(data.Close).reshape(1,-1).T)\n",
    "\n",
    "fdata = np.concatenate([High_nu, Low_nu, Open_nu, Volume_nu, Close_nu], axis=1)\n",
    "\n",
    "train_set = fdata[:round(len(fdata)*0.8)]\n",
    "test_set = fdata[round(len(fdata)*0.8)-window_len:]"
   ]
  },
  {
   "cell_type": "code",
   "execution_count": 8,
   "metadata": {},
   "outputs": [],
   "source": [
    "#make window 15days\n",
    "train_xdata, train_ydata = window(train_set, window_len)\n",
    "test_xdata, test_ydata = window(test_set, window_len)\n",
    "\n",
    "train_xdata_t = torch.FloatTensor(train_xdata)\n",
    "test_xdata_t = torch.FloatTensor(test_xdata)\n",
    "\n",
    "train_ydata_t = torch.FloatTensor(train_ydata)\n",
    "test_ydata_t = torch.FloatTensor(test_ydata)"
   ]
  },
  {
   "cell_type": "code",
   "execution_count": 9,
   "metadata": {},
   "outputs": [],
   "source": [
    "device = 'cuda' if torch.cuda.is_available() else 'cpu'"
   ]
  },
  {
   "cell_type": "code",
   "execution_count": 10,
   "metadata": {},
   "outputs": [],
   "source": [
    "input_size = 5 #train_xdata_t.size(1)\n",
    "hidden_size = 10\n",
    "output = 1\n",
    "layers = 3\n",
    "lr = 0.01"
   ]
  },
  {
   "cell_type": "code",
   "execution_count": 11,
   "metadata": {},
   "outputs": [],
   "source": [
    "class S_model(nn.Module):\n",
    "    def __init__(self, input_size, hidden_size, output, layers):\n",
    "        super(S_model, self).__init__()\n",
    "        \n",
    "        self.BILSTM = nn.LSTM(input_size, hidden_size, num_layers=layers,\n",
    "                             batch_first=True, bias=True,\n",
    "                              bidirectional=True)\n",
    "        \n",
    "        self.dropout = nn.Dropout(p=0.3)\n",
    "        \n",
    "        self.FC = nn.Linear(hidden_size*layers*2, output, bias=True)\n",
    "        nn.init.kaiming_uniform_(self.FC.weight)\n",
    "        \n",
    "    def forward(self, x):\n",
    "        x, (h_s,c_s) = self.BILSTM(x)\n",
    "        y = self.FC(self.dropout(torch.cat([c_s[i,:,:] for i in range(c_s.shape[0])], dim=1)))\n",
    "        \n",
    "        return y"
   ]
  },
  {
   "cell_type": "code",
   "execution_count": 12,
   "metadata": {},
   "outputs": [],
   "source": [
    "S_s = S_model(input_size, hidden_size, output, layers)\n",
    "\n",
    "loss_f = nn.MSELoss()\n",
    "optimi = optim.Adam(S_s.parameters(), lr)"
   ]
  },
  {
   "cell_type": "code",
   "execution_count": 13,
   "metadata": {},
   "outputs": [
    {
     "data": {
      "text/plain": [
       "[tensor(0.7498, grad_fn=<MseLossBackward>),\n",
       " tensor(0.0045, grad_fn=<MseLossBackward>),\n",
       " tensor(0.0022, grad_fn=<MseLossBackward>),\n",
       " tensor(0.0016, grad_fn=<MseLossBackward>),\n",
       " tensor(0.0014, grad_fn=<MseLossBackward>)]"
      ]
     },
     "execution_count": 13,
     "metadata": {},
     "output_type": "execute_result"
    }
   ],
   "source": [
    "epochs = 500\n",
    "cal_loss = []\n",
    "\n",
    "for i in range(epochs):\n",
    "    \n",
    "    optimi.zero_grad()\n",
    "    \n",
    "    hypothesis = S_s(train_xdata_t)\n",
    "    \n",
    "    loss = loss_f(hypothesis, train_ydata_t)\n",
    "    \n",
    "    loss.backward()\n",
    "    \n",
    "    optimi.step()\n",
    "    \n",
    "    if i % 100 ==0 :\n",
    "        cal_loss.append(loss)\n",
    "    \n",
    "cal_loss"
   ]
  },
  {
   "cell_type": "code",
   "execution_count": 52,
   "metadata": {},
   "outputs": [
    {
     "data": {
      "image/png": "[encoded data removed]",
      "text/plain": [
       "<Figure size 432x288 with 1 Axes>"
      ]
     },
     "metadata": {
      "needs_background": "light"
     },
     "output_type": "display_data"
    }
   ],
   "source": [
    "#500\n",
    "plt.plot(S_s(train_xdata_t).detach().numpy())\n",
    "plt.plot(train_ydata_t.detach().numpy())\n",
    "plt.legend(['pred','real'])\n",
    "plt.show()"
   ]
  },
  {
   "cell_type": "code",
   "execution_count": 51,
   "metadata": {},
   "outputs": [
    {
     "data": {
      "image/png": "[encoded data removed]",
      "text/plain": [
       "<Figure size 432x288 with 1 Axes>"
      ]
     },
     "metadata": {
      "needs_background": "light"
     },
     "output_type": "display_data"
    }
   ],
   "source": [
    "#500\n",
    "plt.plot(S_s(test_xdata_t).detach().numpy())\n",
    "plt.plot(test_ydata_t.detach().numpy())\n",
    "plt.legend(['pred','real'])\n",
    "plt.show()"
   ]
  },
  {
   "cell_type": "code",
   "execution_count": 16,
   "metadata": {},
   "outputs": [],
   "source": [
    "def RMSE(y,y_pred):\n",
    "    rmse = np.sqrt(mean_squared_error(y,y_pred))\n",
    "    return rmse"
   ]
  },
  {
   "cell_type": "code",
   "execution_count": 69,
   "metadata": {},
   "outputs": [
    {
     "data": {
      "text/plain": [
       "0.03515061"
      ]
     },
     "execution_count": 69,
     "metadata": {},
     "output_type": "execute_result"
    }
   ],
   "source": [
    "#epochs=500 train_rmse\n",
    "RMSE(train_ydata_t.detach().numpy(),S_s(train_xdata_t).detach().numpy())"
   ]
  },
  {
   "cell_type": "code",
   "execution_count": 18,
   "metadata": {},
   "outputs": [
    {
     "data": {
      "text/plain": [
       "0.06539559"
      ]
     },
     "execution_count": 18,
     "metadata": {},
     "output_type": "execute_result"
    }
   ],
   "source": [
    "#epochs=500 test_rmse\n",
    "RMSE(test_ydata_t.detach().numpy(),S_s(test_xdata_t).detach().numpy())"
   ]
  },
  {
   "cell_type": "markdown",
   "metadata": {},
   "source": [
    "### Plan : Real value compare (Hint : inverse)"
   ]
  },
  {
   "cell_type": "code",
   "execution_count": null,
   "metadata": {},
   "outputs": [],
   "source": []
  }
 ],
 "metadata": {
  "kernelspec": {
   "display_name": "Python 3",
   "language": "python",
   "name": "python3"
  },
  "language_info": {
   "codemirror_mode": {
    "name": "ipython",
    "version": 3
   },
   "file_extension": ".py",
   "mimetype": "text/x-python",
   "name": "python",
   "nbconvert_exporter": "python",
   "pygments_lexer": "ipython3",
   "version": "3.7.4"
  }
 },
 "nbformat": 4,
 "nbformat_minor": 2
}
