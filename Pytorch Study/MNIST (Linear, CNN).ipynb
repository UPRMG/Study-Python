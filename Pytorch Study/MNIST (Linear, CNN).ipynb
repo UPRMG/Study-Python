{
 "cells": [
  {
   "cell_type": "markdown",
   "metadata": {},
   "source": [
    "### MNIST Performance Improvement"
   ]
  },
  {
   "cell_type": "code",
   "execution_count": 2,
   "metadata": {},
   "outputs": [],
   "source": [
    "import torchvision\n",
    "from torchvision import transforms as transforms\n",
    "import torch\n",
    "import torch.nn as nn\n",
    "from torch.utils.data import Dataset, DataLoader\n",
    "import torch.nn.init\n",
    "import torch.optim as optim\n",
    "\n",
    "import numpy as np\n",
    "import matplotlib.pyplot as plt\n",
    "%matplotlib inline"
   ]
  },
  {
   "cell_type": "code",
   "execution_count": 3,
   "metadata": {},
   "outputs": [],
   "source": [
    "device = 'cuda' if torch.cuda.is_available() else 'cpu'"
   ]
  },
  {
   "cell_type": "markdown",
   "metadata": {},
   "source": [
    "### Linear"
   ]
  },
  {
   "cell_type": "code",
   "execution_count": 4,
   "metadata": {},
   "outputs": [],
   "source": [
    "train_set = torchvision.datasets.MNIST(root='./content',\n",
    "                                        train=True,\n",
    "                                        download=False,\n",
    "                                        transform=transforms.ToTensor())\n",
    "\n",
    "test_set = torchvision.datasets.MNIST(root='./content',\n",
    "                                        train=False,\n",
    "                                        download=False,\n",
    "                                        transform=transforms.ToTensor())"
   ]
  },
  {
   "cell_type": "code",
   "execution_count": 5,
   "metadata": {},
   "outputs": [],
   "source": [
    "trainload = DataLoader(train_set, batch_size=64, \\\n",
    "                       shuffle=True, num_workers=4)\n",
    "\n",
    "testload = DataLoader(test_set, batch_size=64, \\\n",
    "                       shuffle=False, num_workers=4)"
   ]
  },
  {
   "cell_type": "code",
   "execution_count": 6,
   "metadata": {},
   "outputs": [],
   "source": [
    "class mymodels(nn.Module):\n",
    "    def __init__(self):\n",
    "        super(mymodels, self).__init__()\n",
    "        \n",
    "        self.layer1 = nn.Linear(784,128, bias=True)\n",
    "        nn.init.xavier_uniform_(self.layer1.weight)\n",
    "\n",
    "        self.bach1 = nn.BatchNorm1d(128)\n",
    "        self.Re1 = nn.ReLU()\n",
    "        \n",
    "        self.layer2 = nn.Linear(128,64, bias=True)\n",
    "        nn.init.xavier_uniform_(self.layer2.weight)\n",
    "        \n",
    "        self.bach2 = nn.BatchNorm1d(64)\n",
    "        self.Re2 = nn.ReLU()\n",
    "        \n",
    "        self.layer3 = nn.Linear(64,10, bias=True)\n",
    "        \n",
    "    def forward(self, x):\n",
    "        out = self.layer1(x)\n",
    "        out = self.bach1(out)\n",
    "        out = self.Re1(out)\n",
    "        \n",
    "        out = self.layer2(out)\n",
    "        out = self.bach2(out)\n",
    "        out = self.Re2(out)\n",
    "        \n",
    "        res = self.layer3(out)\n",
    "        \n",
    "        return res"
   ]
  },
  {
   "cell_type": "code",
   "execution_count": 7,
   "metadata": {},
   "outputs": [],
   "source": [
    "mymod = mymodels()"
   ]
  },
  {
   "cell_type": "code",
   "execution_count": 10,
   "metadata": {},
   "outputs": [],
   "source": [
    "optima = optim.Adam(mymod.parameters(), lr=0.001)"
   ]
  },
  {
   "cell_type": "code",
   "execution_count": 11,
   "metadata": {},
   "outputs": [],
   "source": [
    "lossF = nn.CrossEntropyLoss().to(device)"
   ]
  },
  {
   "cell_type": "code",
   "execution_count": 12,
   "metadata": {},
   "outputs": [
    {
     "name": "stdout",
     "output_type": "stream",
     "text": [
      "3 tensor(269.7587, grad_fn=<AddBackward0>)\n",
      "3 tensor(92.3253, grad_fn=<AddBackward0>)\n",
      "3 tensor(64.0141, grad_fn=<AddBackward0>)\n",
      "finish\n"
     ]
    }
   ],
   "source": [
    "total_number = len(trainload)\n",
    "epoch = 3\n",
    "\n",
    "for q in range(epoch):\n",
    "    cal_cost = 0.0\n",
    "    for i in trainload:\n",
    "        image, labels = i\n",
    "        \n",
    "        ss = image.size(0)\n",
    "        image = image.view(ss,-1)\n",
    "        \n",
    "        image = image.to(device)\n",
    "        \n",
    "        optima.zero_grad()\n",
    "        \n",
    "        pred = mymod(image)\n",
    "        \n",
    "        loos = lossF(pred, labels)\n",
    "        \n",
    "        loos.backward()\n",
    "        \n",
    "        optima.step()\n",
    "        \n",
    "        cal_cost += loos\n",
    "        \n",
    "    print(epoch, cal_cost)\n",
    "print('finish')"
   ]
  },
  {
   "cell_type": "code",
   "execution_count": 14,
   "metadata": {},
   "outputs": [
    {
     "name": "stdout",
     "output_type": "stream",
     "text": [
      "0.9746000170707703\n"
     ]
    }
   ],
   "source": [
    "with torch.no_grad():\n",
    "    x_test = test_set.test_data.view(len(test_set),1,28,28).float().to(device)\n",
    "    x_test = x_test.view(x_test.size(0),-1)\n",
    "    y_test = test_set.test_labels.to(device)\n",
    "    \n",
    "    predic = mymod(x_test)\n",
    "    cor_pre = torch.argmax(predic,1) == y_test\n",
    "    acc = cor_pre.float().mean()\n",
    "    print(acc.item())"
   ]
  },
  {
   "cell_type": "markdown",
   "metadata": {},
   "source": [
    "---"
   ]
  },
  {
   "cell_type": "markdown",
   "metadata": {},
   "source": [
    "### CNN 2D"
   ]
  },
  {
   "cell_type": "code",
   "execution_count": 15,
   "metadata": {},
   "outputs": [],
   "source": [
    "train_set = torchvision.datasets.MNIST(root = './content',\n",
    "                                      download = False,\n",
    "                                      train = True,\n",
    "                                      transform=transforms.ToTensor())\n",
    "\n",
    "test_set = torchvision.datasets.MNIST(root = './content',\n",
    "                                     download = False,\n",
    "                                     train = False,\n",
    "                                     transform=transforms.ToTensor())"
   ]
  },
  {
   "cell_type": "code",
   "execution_count": 16,
   "metadata": {},
   "outputs": [],
   "source": [
    "train_load = DataLoader(train_set, batch_size=128, shuffle=True,\n",
    "                       num_workers=3)"
   ]
  },
  {
   "cell_type": "code",
   "execution_count": 18,
   "metadata": {},
   "outputs": [],
   "source": [
    "class Imodel(nn.Module):\n",
    "    def __init__(self):\n",
    "        super(Imodel,self).__init__()\n",
    "        \n",
    "        self.conv_1 = nn.Conv2d(1,128,3,padding=5)\n",
    "        nn.init.xavier_uniform_(self.conv_1.weight)\n",
    "        self.batch_1 = nn.BatchNorm2d(128)\n",
    "        self.relu_1 = nn.ReLU()\n",
    "        self.Max_1 = nn.MaxPool2d(2)\n",
    "        \n",
    "        self.conv_2 = nn.Conv2d(128,64,3,padding=5)\n",
    "        nn.init.xavier_uniform_(self.conv_2.weight)\n",
    "        self.batch_2 = nn.BatchNorm2d(64)\n",
    "        self.relu_2 = nn.ReLU()\n",
    "        self.Max_2 = nn.MaxPool2d(2)\n",
    "        \n",
    "        #conv1:36(28-3+5*2/1 +1), max_1:18(36/2), \n",
    "        #conv2:26(18-3+5*2/1 +1), max_2:13(26/2)\n",
    "        self.fc_1 = nn.Linear(13*13*64,128,bias=True)\n",
    "        nn.init.xavier_uniform_(self.fc_1.weight)\n",
    "        self.batch_3 = nn.BatchNorm1d(128)\n",
    "        self.relu_3 = nn.ReLU()\n",
    "        \n",
    "        self.fc_2 = nn.Linear(128,10,bias=True)\n",
    "        nn.init.xavier_uniform_(self.fc_2.weight)\n",
    "        \n",
    "    def forward(self,x):\n",
    "        \n",
    "        out = self.conv_1(x)\n",
    "        out = self.batch_1(out)\n",
    "        out = self.relu_1(out)\n",
    "        out = self.Max_1(out)\n",
    "        \n",
    "        out = self.conv_2(out)\n",
    "        out = self.batch_2(out)\n",
    "        out = self.relu_2(out)\n",
    "        out = self.Max_2(out)\n",
    "        \n",
    "        out = out.view(out.shape[0],-1)\n",
    "        \n",
    "        out = self.fc_1(out)\n",
    "        out = self.batch_3(out)\n",
    "        out = self.relu_3(out)\n",
    "        \n",
    "        out = self.fc_2(out)\n",
    "        \n",
    "        return out"
   ]
  },
  {
   "cell_type": "code",
   "execution_count": 19,
   "metadata": {},
   "outputs": [],
   "source": [
    "Imod = Imodel()"
   ]
  },
  {
   "cell_type": "code",
   "execution_count": 20,
   "metadata": {},
   "outputs": [],
   "source": [
    "optimizers = optim.Adam(Imod.parameters(),lr=0.001)"
   ]
  },
  {
   "cell_type": "code",
   "execution_count": 21,
   "metadata": {},
   "outputs": [],
   "source": [
    "loss_Function = nn.CrossEntropyLoss().to(device)"
   ]
  },
  {
   "cell_type": "code",
   "execution_count": null,
   "metadata": {},
   "outputs": [],
   "source": [
    "total = len(train_load)\n",
    "epochs = 3\n",
    "\n",
    "for k in range(epochs):\n",
    "    cal_loss = 0.0\n",
    "    for i in train_load:\n",
    "        image, labels = i\n",
    "        \n",
    "        image = image.to(device)\n",
    "        labels = labels.to(device)\n",
    "        \n",
    "        optimizers.zero_grad()\n",
    "        \n",
    "        hypothesis = Imod(image)\n",
    "        \n",
    "        loss_s = loss_Function(hypothesis, labels)\n",
    "        \n",
    "        loss_s.backward()\n",
    "        \n",
    "        optimizers.step()\n",
    "        \n",
    "        loss_val += loss_s\n",
    "        \n",
    "    print(epochs, loss_val)\n",
    "print('finish')"
   ]
  },
  {
   "cell_type": "code",
   "execution_count": 22,
   "metadata": {},
   "outputs": [
    {
     "data": {
      "text/plain": [
       "<All keys matched successfully>"
      ]
     },
     "execution_count": 22,
     "metadata": {},
     "output_type": "execute_result"
    }
   ],
   "source": [
    "pre_train_model = Imodel().to(device)\n",
    "pre_train_model.load_state_dict(torch.load('./model_save/Imod.pth'))"
   ]
  },
  {
   "cell_type": "code",
   "execution_count": 23,
   "metadata": {},
   "outputs": [
    {
     "name": "stdout",
     "output_type": "stream",
     "text": [
      "0.9908000230789185\n"
     ]
    }
   ],
   "source": [
    "with torch.no_grad():\n",
    "    x_test = test_set.test_data.view(len(test_set),1,28,28).float().to(device)\n",
    "    y_test = test_set.test_labels.to(device)\n",
    "    \n",
    "    predict_val = pre_train_model(x_test)\n",
    "    cor = torch.argmax(predict_val,1) == y_test\n",
    "    correct = cor.float().mean()\n",
    "    \n",
    "    print(correct.item())"
   ]
  },
  {
   "cell_type": "markdown",
   "metadata": {},
   "source": [
    "---"
   ]
  },
  {
   "cell_type": "markdown",
   "metadata": {},
   "source": [
    "### Image Compare"
   ]
  },
  {
   "cell_type": "code",
   "execution_count": 24,
   "metadata": {},
   "outputs": [],
   "source": [
    "x_test_check = test_set.test_data.view(len(test_set),1,28,28).float()"
   ]
  },
  {
   "cell_type": "code",
   "execution_count": 26,
   "metadata": {},
   "outputs": [
    {
     "data": {
      "text/plain": [
       "torch.Size([1, 28, 28])"
      ]
     },
     "execution_count": 26,
     "metadata": {},
     "output_type": "execute_result"
    }
   ],
   "source": [
    "x_test_check[0].shape"
   ]
  },
  {
   "cell_type": "code",
   "execution_count": 28,
   "metadata": {},
   "outputs": [
    {
     "data": {
      "text/plain": [
       "torch.Size([28, 28])"
      ]
     },
     "execution_count": 28,
     "metadata": {},
     "output_type": "execute_result"
    }
   ],
   "source": [
    "x_test_check[0].squeeze().shape"
   ]
  },
  {
   "cell_type": "code",
   "execution_count": 29,
   "metadata": {},
   "outputs": [
    {
     "data": {
      "text/plain": [
       "<matplotlib.image.AxesImage at 0x7ff65f9beb90>"
      ]
     },
     "execution_count": 29,
     "metadata": {},
     "output_type": "execute_result"
    },
    {
     "data": {
      "image/png": "[encoded data removed]",
      "text/plain": [
       "<Figure size 432x288 with 1 Axes>"
      ]
     },
     "metadata": {
      "needs_background": "light"
     },
     "output_type": "display_data"
    }
   ],
   "source": [
    "plt.imshow(x_test_check[0].squeeze())"
   ]
  },
  {
   "cell_type": "code",
   "execution_count": 33,
   "metadata": {},
   "outputs": [
    {
     "data": {
      "text/plain": [
       "torch.Size([10000, 10])"
      ]
     },
     "execution_count": 33,
     "metadata": {},
     "output_type": "execute_result"
    }
   ],
   "source": [
    "predict_val.shape"
   ]
  },
  {
   "cell_type": "code",
   "execution_count": 35,
   "metadata": {},
   "outputs": [
    {
     "data": {
      "text/plain": [
       "tensor(7)"
      ]
     },
     "execution_count": 35,
     "metadata": {},
     "output_type": "execute_result"
    }
   ],
   "source": [
    "torch.argmax(predict_val[0])"
   ]
  }
 ],
 "metadata": {
  "kernelspec": {
   "display_name": "Python 3",
   "language": "python",
   "name": "python3"
  },
  "language_info": {
   "codemirror_mode": {
    "name": "ipython",
    "version": 3
   },
   "file_extension": ".py",
   "mimetype": "text/x-python",
   "name": "python",
   "nbconvert_exporter": "python",
   "pygments_lexer": "ipython3",
   "version": "3.7.4"
  }
 },
 "nbformat": 4,
 "nbformat_minor": 2
}
