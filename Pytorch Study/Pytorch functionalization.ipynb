{
 "cells": [
  {
   "cell_type": "markdown",
   "metadata": {},
   "source": [
    "# Functionalization"
   ]
  },
  {
   "cell_type": "markdown",
   "metadata": {},
   "source": [
    "### Import"
   ]
  },
  {
   "cell_type": "code",
   "execution_count": 1,
   "metadata": {},
   "outputs": [],
   "source": [
    "import torch\n",
    "import torch.nn as nn\n",
    "import torchvision\n",
    "from torchvision import transforms as transforms\n",
    "from torch.utils.data import Dataset, DataLoader\n",
    "import torch.optim as optim\n",
    "import torch.nn.init\n",
    "\n",
    "import numpy as np\n",
    "import matplotlib.pyplot as plt\n",
    "%matplotlib inline\n",
    "\n",
    "import warnings\n",
    "warnings.filterwarnings(action='ignore') "
   ]
  },
  {
   "cell_type": "markdown",
   "metadata": {},
   "source": [
    "### Device setting"
   ]
  },
  {
   "cell_type": "code",
   "execution_count": 2,
   "metadata": {},
   "outputs": [],
   "source": [
    "device = 'cuda' if torch.cuda.is_available() else 'cpu'"
   ]
  },
  {
   "cell_type": "markdown",
   "metadata": {},
   "source": [
    "### Data setting"
   ]
  },
  {
   "cell_type": "code",
   "execution_count": 3,
   "metadata": {},
   "outputs": [],
   "source": [
    "train_set = torchvision.datasets.MNIST(root = './content',\n",
    "                                      train = True,\n",
    "                                      download = False,\n",
    "                                      transform=transforms.ToTensor())\n",
    "\n",
    "test_set = torchvision.datasets.MNIST(root = './content',\n",
    "                                     train = False,\n",
    "                                     download = False,\n",
    "                                     transform=transforms.ToTensor())"
   ]
  },
  {
   "cell_type": "markdown",
   "metadata": {},
   "source": [
    "### Data size check"
   ]
  },
  {
   "cell_type": "code",
   "execution_count": 4,
   "metadata": {},
   "outputs": [
    {
     "data": {
      "text/plain": [
       "(torch.Size([60000, 28, 28]), torch.Size([10000, 28, 28]))"
      ]
     },
     "execution_count": 4,
     "metadata": {},
     "output_type": "execute_result"
    }
   ],
   "source": [
    "train_set.data.shape, test_set.data.shape"
   ]
  },
  {
   "cell_type": "markdown",
   "metadata": {},
   "source": [
    "### Data Load"
   ]
  },
  {
   "cell_type": "code",
   "execution_count": 5,
   "metadata": {},
   "outputs": [],
   "source": [
    "train_load = DataLoader(train_set, shuffle=True, \n",
    "                        batch_size=128,num_workers=3)"
   ]
  },
  {
   "cell_type": "markdown",
   "metadata": {},
   "source": [
    "### My Modeling\n"
   ]
  },
  {
   "cell_type": "code",
   "execution_count": 6,
   "metadata": {},
   "outputs": [],
   "source": [
    "class MyM(nn.Module):\n",
    "    def __init__(self):\n",
    "        super(MyM,self).__init__()\n",
    "        \n",
    "        self.call = nn.Conv2d(1,32,3,padding=1)\n",
    "        nn.init.kaiming_uniform_(self.call.weight)\n",
    "        self.batch_call = nn.BatchNorm2d(32)\n",
    "        \n",
    "        self.cnn1 = nn.Conv2d(1,128,3,padding=1)\n",
    "        nn.init.kaiming_uniform_(self.cnn1.weight)\n",
    "        self.batch1 = nn.BatchNorm2d(128)\n",
    "        self.Relu1 = nn.ReLU()\n",
    "        self.cnn2 = nn.Conv2d(128,64,3,padding=1)\n",
    "        self.batch2 = nn.BatchNorm2d(64)\n",
    "        self.Relu2 = nn.ReLU()\n",
    "        self.cnn3 = nn.Conv2d(64,32,3,padding=1)\n",
    "        self.batch3 = nn.BatchNorm2d(32)\n",
    "        \n",
    "        self.avgpooling = nn.AvgPool2d(2)\n",
    "        \n",
    "        self.linear1 = nn.Linear(32*14*14, 128)\n",
    "        self.li_batch = nn.BatchNorm1d(128)\n",
    "        self.li_Relu = nn.ReLU()\n",
    "        self.linear2 = nn.Linear(128,10)\n",
    "        \n",
    "    def forward(self, x):\n",
    "        \n",
    "        call_out = self.call(x)\n",
    "        call_out = self.batch_call(call_out)\n",
    "        \n",
    "        out = self.cnn1(x)\n",
    "        out = self.batch1(out)\n",
    "        out = self.Relu1(out)\n",
    "        out = self.cnn2(out)\n",
    "        out = self.batch2(out)\n",
    "        out = self.Relu2(out)\n",
    "        out = self.cnn3(out)\n",
    "        out = self.batch3(out)\n",
    "        \n",
    "        result_out = call_out + out\n",
    "        \n",
    "        result_out = self.avgpooling(result_out)\n",
    "        \n",
    "        result_out = result_out.view(result_out.size(0),-1)\n",
    "        \n",
    "        result_out = self.linear1(result_out)\n",
    "        result_out = self.li_batch(result_out)\n",
    "        result_out = self.li_Relu(result_out)\n",
    "        result_out = self.linear2(result_out)\n",
    "        \n",
    "        return result_out"
   ]
  },
  {
   "cell_type": "markdown",
   "metadata": {},
   "source": [
    "### Model define"
   ]
  },
  {
   "cell_type": "code",
   "execution_count": 7,
   "metadata": {},
   "outputs": [],
   "source": [
    "MYM = MyM()"
   ]
  },
  {
   "cell_type": "markdown",
   "metadata": {},
   "source": [
    "### Functionalization"
   ]
  },
  {
   "cell_type": "code",
   "execution_count": 8,
   "metadata": {},
   "outputs": [],
   "source": [
    "def Functionalization_madel(train_load,model,base_model='CNN',epochs=2,lr=0.001):\n",
    "\n",
    "    device = 'cuda' if torch.cuda.is_available() else 'cpu'\n",
    "    \n",
    "    optimizer = optim.Adam(model.parameters(),lr=lr)\n",
    "    loss_function = nn.CrossEntropyLoss().to(device)\n",
    "    \n",
    "    for i in range(epochs):\n",
    "        check_loss = 0.0\n",
    "        \n",
    "        for j in train_load:\n",
    "            image, labels = j\n",
    "            \n",
    "            if base_model == 'CNN':\n",
    "                image = image.to(device)\n",
    "                labels = labels.to(device)\n",
    "                \n",
    "                optimizer.zero_grad()\n",
    "                \n",
    "                hypothesis = model(image)\n",
    "                \n",
    "                loss = loss_function(hypothesis, labels)\n",
    "                \n",
    "                loss.backward()\n",
    "                \n",
    "                optimizer.step()\n",
    "                \n",
    "            elif base_model == 'LINEAR':\n",
    "                image = image.to(device)\n",
    "                labels = labels.to(device)\n",
    "                \n",
    "                image = image.view(image.size(0),-1)\n",
    "                \n",
    "                optimizer.zero_grad()\n",
    "                \n",
    "                hypothesis = model(image)\n",
    "                \n",
    "                loss = loss_function(hypothesis, labels)\n",
    "                \n",
    "                loss.backward()\n",
    "                \n",
    "                optimizer.step()\n",
    "            \n",
    "            check_loss += loss / len(train_load)\n",
    "            \n",
    "        print(i,check_loss)\n",
    "    print('finish')"
   ]
  },
  {
   "cell_type": "code",
   "execution_count": 9,
   "metadata": {},
   "outputs": [
    {
     "name": "stdout",
     "output_type": "stream",
     "text": [
      "0 tensor(0.1287, grad_fn=<AddBackward0>)\n",
      "1 tensor(0.0410, grad_fn=<AddBackward0>)\n",
      "finish\n"
     ]
    }
   ],
   "source": [
    "Functionalization_madel(train_load,MYM,base_model='CNN')"
   ]
  },
  {
   "cell_type": "markdown",
   "metadata": {},
   "source": [
    "### Test performance check"
   ]
  },
  {
   "cell_type": "code",
   "execution_count": 10,
   "metadata": {},
   "outputs": [],
   "source": [
    "def test_check(model, test_set, base_model = 'CNN'):\n",
    "    device = 'cuda' if torch.cuda.is_available() else 'cpu'\n",
    "    \n",
    "    with torch.no_grad():\n",
    "        if base_model == 'CNN':\n",
    "            x_test = test_set.data.view(len(test_set),1,28,28).float().to(device)\n",
    "            y_test = test_set.test_labels.to(device)\n",
    "            \n",
    "            pred = model(x_test)\n",
    "            check_pred = torch.argmax(pred,dim=1) == y_test\n",
    "            acc = check_pred.float().mean()\n",
    "            \n",
    "        elif base_model == 'LINEAR':\n",
    "            x_test = test_set.data.view(len(test_set),1,28,28).float().to(device)\n",
    "            x_test = x_test.view(x_test.size(0),-1)\n",
    "            y_test = test_set.test_labels.to(device)\n",
    "            \n",
    "            pred = model(x_test)\n",
    "            check_pred = torch.argmax(pred,dim=1) == y_test\n",
    "            acc = check_pred.float().mean()\n",
    "            \n",
    "    return acc"
   ]
  },
  {
   "cell_type": "code",
   "execution_count": 11,
   "metadata": {},
   "outputs": [
    {
     "data": {
      "text/plain": [
       "tensor(0.9912)"
      ]
     },
     "execution_count": 11,
     "metadata": {},
     "output_type": "execute_result"
    }
   ],
   "source": [
    "test_check(MYM,test_set,base_model='CNN')"
   ]
  }
 ],
 "metadata": {
  "kernelspec": {
   "display_name": "Python 3",
   "language": "python",
   "name": "python3"
  },
  "language_info": {
   "codemirror_mode": {
    "name": "ipython",
    "version": 3
   },
   "file_extension": ".py",
   "mimetype": "text/x-python",
   "name": "python",
   "nbconvert_exporter": "python",
   "pygments_lexer": "ipython3",
   "version": "3.7.4"
  }
 },
 "nbformat": 4,
 "nbformat_minor": 2
}
